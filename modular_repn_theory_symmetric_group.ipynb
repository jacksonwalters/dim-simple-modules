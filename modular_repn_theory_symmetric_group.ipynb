{
 "cells": [
  {
   "cell_type": "code",
   "execution_count": 19,
   "id": "fe9d2959",
   "metadata": {},
   "outputs": [],
   "source": [
    "#compute dim D^{\\lambda}\n",
    "#define action of S_n on Young tableaux - DONE\n",
    "#for a p-regular partition \\lambda\n",
    "#find basis elements e_i for Specht modules S^\\lambda\n",
    "#write basis e_T in terms of Young tableaux as in Chan's notes\n",
    "#compute rank of Gram matrix (<e_i,e_j>)_{i,j=1,...,n} as in Chan's notes"
   ]
  },
  {
   "cell_type": "code",
   "execution_count": 20,
   "id": "18eab2b5",
   "metadata": {},
   "outputs": [],
   "source": [
    "#REFS:\n",
    "#Chan's notes - https://math.mit.edu/~charchan/ModularRepresentationsSymmetricGroupSeminar.pdf"
   ]
  },
  {
   "cell_type": "code",
   "execution_count": 21,
   "id": "0468a6ed",
   "metadata": {},
   "outputs": [
    {
     "data": {
      "text/plain": [
       "'\"\\nSGA = SymmetricGroupAlgebra(GF(3), 5)\\nC = SGA.cellular_basis()\\nfor la in C.cell_poset():\\n    M = C.cell_module(la)\\n    if not M.nonzero_bilinear_form():\\n        continue\\n    (la, M.dimension(), M.simple_module().dimension())\\n'"
      ]
     },
     "execution_count": 21,
     "metadata": {},
     "output_type": "execute_result"
    }
   ],
   "source": [
    "#https://en.wikipedia.org/wiki/Iwahori–Hecke_algebra\n",
    "#exists more general construction using Hecke algebras associated to Coxeter groups, i.e. Iwahori-Hecke algebras\n",
    "#when q=1, we get the symmetric group algebra\n",
    "#there are *two* bases, the canonical one and another discovered by Kazhdan-Lusztig\n",
    "#one of these bases is equivalent to the basis described in Chan's notes\n",
    "#the Kazhdan-Lusztig polynomials essentially give the transition matrix from one to the other\n",
    "#computing the size of this basis over F_p gives the dimension of D^\\lambda\n",
    "#Travis Scrimshaw has implemented this code in https://github.com/sagemath/sage/pull/36718\n",
    "\"\"\"\"\n",
    "SGA = SymmetricGroupAlgebra(GF(3), 5)\n",
    "C = SGA.cellular_basis()\n",
    "for la in C.cell_poset():\n",
    "    M = C.cell_module(la)\n",
    "    if not M.nonzero_bilinear_form():\n",
    "        continue\n",
    "    (la, M.dimension(), M.simple_module().dimension())\n",
    "\"\"\""
   ]
  },
  {
   "cell_type": "code",
   "execution_count": 22,
   "id": "076679e6",
   "metadata": {},
   "outputs": [],
   "source": [
    "#define action of S_n on Young tableaux T\n",
    "def act(sigma,T):\n",
    "    return Tableau([[sigma(l[i]) for i in range(len(l))] for l in T])"
   ]
  },
  {
   "cell_type": "code",
   "execution_count": 23,
   "id": "320154b9",
   "metadata": {},
   "outputs": [],
   "source": [
    "#define action on rows of tablueax\n",
    "#g is an element of the subgroup \\prod_i S_{n_i} where \\sum_i n_i = n\n",
    "#T is a tableau corresponding to some partition T.shape()\n",
    "def act_rows(g,T):\n",
    "    return [g[i](T[i]) for i in range(len(T))]"
   ]
  },
  {
   "cell_type": "code",
   "execution_count": 24,
   "id": "bdc6b081",
   "metadata": {},
   "outputs": [],
   "source": [
    "#determine when two tableaux are row-equivalent\n",
    "def row_equiv(T_0,T_1):\n",
    "    assert T_0.shape() == T_1.shape()\n",
    "    return all(set(T_0[i])==set(T_1[i]) for i in range(len(T_0)))"
   ]
  },
  {
   "cell_type": "code",
   "execution_count": 25,
   "id": "f20d50fc",
   "metadata": {},
   "outputs": [],
   "source": [
    "#get columns of tableau\n",
    "#there is a MUCH smarter way to do this\n",
    "def cols(T):\n",
    "    cols=[]\n",
    "    for j in range(max(T.shape())):\n",
    "        col=[]\n",
    "        for i in range(len(T)):\n",
    "            try:\n",
    "                col.append(T[i][j])\n",
    "            except:\n",
    "                IndexError\n",
    "        cols.append(col)\n",
    "    return cols"
   ]
  },
  {
   "cell_type": "code",
   "execution_count": 26,
   "id": "611d03f3",
   "metadata": {},
   "outputs": [],
   "source": [
    "#compute the column stabilizer of a tableau T\n",
    "def col_stab(T):\n",
    "    n=sum(T.shape())\n",
    "    col_1 = cols(T)\n",
    "    col_stabilizer = []\n",
    "    for g in SymmetricGroup(n):\n",
    "        col_2 = cols(act(g,T))\n",
    "        assert len(col_1) == len(col_2)\n",
    "        cols_preserved = True\n",
    "        for i in range(len(col_1)):\n",
    "            if set(col_1[i]) != set(col_2[i]):\n",
    "                cols_preserved = False\n",
    "        if cols_preserved:\n",
    "            col_stabilizer.append(g)\n",
    "    return col_stabilizer"
   ]
  },
  {
   "cell_type": "code",
   "execution_count": 27,
   "id": "24cc4b2b",
   "metadata": {},
   "outputs": [],
   "source": [
    "#compute polytabloid e_T associated to a standard young tableau T\n",
    "#e_T = \\sum_{\\sigma \\in C_T} sgn(\\sigma) { \\sigma T}\n",
    "#where {} is the row-equivalence class, i.e. a tabloid\n",
    "#C_T is the column stabilizer, the subgroup of the symmetric group preserving the columns of tableau T setwise\n",
    "#sgn is the sign of the permutation \\sigma\n",
    "#the sum takes place in the module generated by tabloids {T}\n",
    "#represent lienar combination of tabloids as a dict={Tableau:Integer}\n",
    "#if T_1 is equivalent to T_2, just increase the sum by sgn(\\sigma)\n",
    "#if T_1 is not equivalent to T_2, create a new entry\n",
    "def polytabloid(T):\n",
    "    e_T = {}\n",
    "    C_T = col_stab(T)\n",
    "    for pi in C_T:\n",
    "        T_1 = act(pi,T)\n",
    "        sum_contains_equiv = False\n",
    "        for T_2 in e_T:\n",
    "            if row_equiv(T_1,T_2):\n",
    "                sum_contains_equiv = True\n",
    "                e_T[T_2] += sgn(pi)\n",
    "        if not sum_contains_equiv:\n",
    "            e_T[T_1] = sgn(pi)\n",
    "    return e_T"
   ]
  },
  {
   "cell_type": "code",
   "execution_count": 28,
   "id": "58f97506",
   "metadata": {},
   "outputs": [],
   "source": [
    "#compute bilinear form <.,.> associated to span of tabloids\n",
    "#<{s},{t}> = \\delta_{{s},{t}}\n",
    "#takes in two dicts representing polytabloids e_{T_1} and e_{T_2}\n",
    "#iterates through both keys only increasing the sum by the product of entries when {s}=={t}, i.e. s ~ t\n",
    "def bilinear_form(poly_1,poly_2):\n",
    "    sum = 0\n",
    "    for s in poly_1:\n",
    "        for t in poly_2:\n",
    "            if row_equiv(s,t):\n",
    "                sum += poly_1[s]*poly_2[t]\n",
    "    return sum"
   ]
  },
  {
   "cell_type": "code",
   "execution_count": 29,
   "id": "5c8e024d",
   "metadata": {},
   "outputs": [],
   "source": [
    "#create a standard \"canonical\" tableau by placing entries sequentially from left-to-right, top-to-bottom\n",
    "def canonical_tableau(la):\n",
    "    return Tableau([[sum(la[k] for k in range(j))+i+1 for i in range(la[j])] for j in range(len(la))])"
   ]
  },
  {
   "cell_type": "code",
   "execution_count": 30,
   "id": "5b772eb9",
   "metadata": {},
   "outputs": [],
   "source": [
    "#use the bilinear form to compute the rank of the Gram matrix (<e_i,e_j>)_{i,j=1,...,n}\n",
    "#note that polytabloids e_T form a basis for S^\\lambda for *standard* tableau T\n",
    "def gram_matrix(la):\n",
    "    return [[bilinear_form(polytabloid(T_1),polytabloid(T_2)) for T_1 in StandardTableaux(la)] for T_2 in StandardTableaux(la)]"
   ]
  },
  {
   "cell_type": "code",
   "execution_count": 31,
   "id": "02584f08",
   "metadata": {},
   "outputs": [],
   "source": [
    "#compute the rank of a matrix modulo p when given as a list\n",
    "def rank(A,p):\n",
    "    return matrix(GF(p),len(A),A).rank()"
   ]
  },
  {
   "cell_type": "code",
   "execution_count": 32,
   "id": "4234a02f",
   "metadata": {},
   "outputs": [
    {
     "data": {
      "text/plain": [
       "[2, 3, 5, 7, 11]"
      ]
     },
     "execution_count": 32,
     "metadata": {},
     "output_type": "execute_result"
    }
   ],
   "source": [
    "n=6 #size of symmetric group\n",
    "P=Primes()[:5]; P #primes p until all all partitions are p-regular"
   ]
  },
  {
   "cell_type": "code",
   "execution_count": null,
   "id": "5a327a34",
   "metadata": {},
   "outputs": [],
   "source": [
    "header_row=[[\"p//partition\"]+[la for la in Partitions(n)]]; header_row\n",
    "data=[[str(p)]+[rank(gram_matrix(la),p) if la.is_regular(p) else None for la in Partitions(n)] for p in P]"
   ]
  },
  {
   "cell_type": "code",
   "execution_count": null,
   "id": "5711dbf9",
   "metadata": {},
   "outputs": [],
   "source": [
    "header_row+data"
   ]
  },
  {
   "cell_type": "code",
   "execution_count": null,
   "id": "e9691efb",
   "metadata": {},
   "outputs": [],
   "source": [
    "import pandas as pd\n",
    "df=pd.DataFrame(data,columns=header_row)\n",
    "print(df.to_string(index=False))"
   ]
  },
  {
   "cell_type": "code",
   "execution_count": null,
   "id": "0dc6113c",
   "metadata": {},
   "outputs": [],
   "source": [
    "df.to_csv(\"rank_gram_matrices_n=6.csv\",index=False)"
   ]
  }
 ],
 "metadata": {
  "kernelspec": {
   "display_name": "SageMath 10.1",
   "language": "sage",
   "name": "sagemath"
  },
  "language_info": {
   "codemirror_mode": {
    "name": "ipython",
    "version": 3
   },
   "file_extension": ".py",
   "mimetype": "text/x-python",
   "name": "python",
   "nbconvert_exporter": "python",
   "pygments_lexer": "ipython3",
   "version": "3.11.1"
  }
 },
 "nbformat": 4,
 "nbformat_minor": 5
}
