{
 "cells": [
  {
   "cell_type": "code",
   "execution_count": 9,
   "id": "5e93656e",
   "metadata": {},
   "outputs": [],
   "source": [
    "#https://doc.sagemath.org/html/en/reference/algebras/sage/algebras/quantum_groups/fock_space.html#fock-space"
   ]
  },
  {
   "cell_type": "code",
   "execution_count": 176,
   "id": "2fe96bb0",
   "metadata": {},
   "outputs": [],
   "source": [
    "#Fock space of rank r corresponding to U_q(\\hat{sl_n})\n",
    "FS = FockSpace(3)"
   ]
  },
  {
   "cell_type": "code",
   "execution_count": 177,
   "id": "5b8a206e",
   "metadata": {},
   "outputs": [
    {
     "data": {
      "text/plain": [
       "Fock space of rank 3 of multicharge (0,) over Fraction Field of Univariate Polynomial Ring in q over Integer Ring in the natural basis"
      ]
     },
     "execution_count": 177,
     "metadata": {},
     "output_type": "execute_result"
    }
   ],
   "source": [
    "#there are three bases for this Fock space: natural, appoximation, lower crystal\n",
    "#Fock space of rank 3 in the natural basis\n",
    "#the natural basis is indexed by partitions\n",
    "F = FS.natural(); F"
   ]
  },
  {
   "cell_type": "code",
   "execution_count": 178,
   "id": "050cc91f",
   "metadata": {},
   "outputs": [
    {
     "data": {
      "text/plain": [
       "|>"
      ]
     },
     "execution_count": 178,
     "metadata": {},
     "output_type": "execute_result"
    }
   ],
   "source": [
    "#the highest weight vector corresponds to the empty partition\n",
    "u = F.highest_weight_vector(); u"
   ]
  },
  {
   "cell_type": "code",
   "execution_count": 181,
   "id": "e18d2e7a",
   "metadata": {},
   "outputs": [
    {
     "data": {
      "text/plain": [
       "|3> + q*|2, 1>"
      ]
     },
     "execution_count": 181,
     "metadata": {},
     "output_type": "execute_result"
    }
   ],
   "source": [
    "#note that in this basis q^h can be \"moved past f_i or e_i\" to get q^r for some r\n",
    "#e, f are Lie algebra elements corresponding to e, f\n",
    "#e, f takes a list of indices or pairs: f.(i,p) is f_{i}^{(p)}\n",
    "#the \"divided difference operator\" or \"ladder construction\" from LLT\n",
    "u.f(0,1,2)"
   ]
  },
  {
   "cell_type": "code",
   "execution_count": 234,
   "id": "f6209013",
   "metadata": {},
   "outputs": [],
   "source": [
    "#define bar involution on highest weight portion of Fock space, M(\\Lambda_0)\n",
    "#phi = endomorphism of \\QQ(q) = Frac(\\QQ[q]) taking q --> q^-1\n",
    "phi = FS.q().parent().hom([FS.q()^-1]); phi\n",
    "def bar_involution(v):\n",
    "    return sum(phi(pair[1])*FS(pair[0])for pair in v)"
   ]
  },
  {
   "cell_type": "code",
   "execution_count": 235,
   "id": "b40a46db",
   "metadata": {},
   "outputs": [
    {
     "data": {
      "text/plain": [
       "|3, 2, 1> + q*|3, 1, 1, 1> + q*|2, 2, 2> + q^2*|2, 1, 1, 1, 1>"
      ]
     },
     "execution_count": 235,
     "metadata": {},
     "output_type": "execute_result"
    }
   ],
   "source": [
    "w=u.f(0,2,(1,2),0,2); w"
   ]
  },
  {
   "cell_type": "code",
   "execution_count": 236,
   "id": "133e345c",
   "metadata": {},
   "outputs": [
    {
     "data": {
      "text/plain": [
       "|3, 2, 1> + 1/q*|3, 1, 1, 1> + 1/q*|2, 2, 2> + 1/q^2*|2, 1, 1, 1, 1>"
      ]
     },
     "execution_count": 236,
     "metadata": {},
     "output_type": "execute_result"
    }
   ],
   "source": [
    "bar_involution(w)"
   ]
  },
  {
   "cell_type": "code",
   "execution_count": 146,
   "id": "a098674d",
   "metadata": {},
   "outputs": [],
   "source": [
    "#global crystal basis\n",
    "G = FS.G()"
   ]
  },
  {
   "cell_type": "code",
   "execution_count": 148,
   "id": "31b84ee2",
   "metadata": {},
   "outputs": [],
   "source": [
    "#approximation basis\n",
    "A = FS.A()"
   ]
  },
  {
   "cell_type": "code",
   "execution_count": 157,
   "id": "7d5e3591",
   "metadata": {},
   "outputs": [
    {
     "data": {
      "text/plain": [
       "|5> + q*|3, 2>"
      ]
     },
     "execution_count": 157,
     "metadata": {},
     "output_type": "execute_result"
    }
   ],
   "source": [
    "F(A[5])"
   ]
  },
  {
   "cell_type": "code",
   "execution_count": null,
   "id": "d6137f80",
   "metadata": {},
   "outputs": [],
   "source": []
  }
 ],
 "metadata": {
  "kernelspec": {
   "display_name": "SageMath 10.1",
   "language": "sage",
   "name": "sagemath"
  },
  "language_info": {
   "codemirror_mode": {
    "name": "ipython",
    "version": 3
   },
   "file_extension": ".py",
   "mimetype": "text/x-python",
   "name": "python",
   "nbconvert_exporter": "python",
   "pygments_lexer": "ipython3",
   "version": "3.11.1"
  }
 },
 "nbformat": 4,
 "nbformat_minor": 5
}
